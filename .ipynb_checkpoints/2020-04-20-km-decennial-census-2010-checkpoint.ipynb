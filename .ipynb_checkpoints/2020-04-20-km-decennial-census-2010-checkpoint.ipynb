{
 "cells": [
  {
   "cell_type": "markdown",
   "metadata": {},
   "source": [
    "### Data from American Community Survey 1-Year Data (2011-2018)\n",
    "### Data from 2010 Decennial Census (2010)\n",
    "\n",
    "* Testing to see if additional data categories could benefit our project\n",
    "* Drill-down to specific columns based on results"
   ]
  },
  {
   "cell_type": "markdown",
   "metadata": {},
   "source": [
    "#### OCTOBER 17, 2019\n",
    "\n",
    "The American Community Survey (ACS) is an ongoing survey that provides data every year -- giving communities the current information they need to plan investments and services. The ACS covers a broad range of topics about social, economic, demographic, and housing characteristics of the U.S. population. Much of the ACS data provided on the Census Bureau's Web site are available separately by age group, race, Hispanic origin, and sex.\n",
    "\n",
    "Detailed Tables, Subject Tables, Data Profiles, Comparison Profiles and Selected Population Profiles are available for the nation, all 50 states, the District of Columbia, Puerto Rico, every congressional district, every metropolitan area, and all counties and places with populations of 65,000 or more.\n",
    "\n",
    "Detail Tables contain the most detailed cross-tabulations published for areas 65k and more. The data are population counts. There are over 31,000 variables in this dataset.\n",
    "Subject tables provide an overview of the estimates available in a particular topic.  The data are presented as population counts and percentages.  There are over 16,000 variables in this dataset. \n",
    "Data profiles contain broad social, economic, housing, and demographic information. The data are presented as population counts and percentages. There are over 1,000 variables in this dataset.\n",
    "Comparison profiles are similar to data profiles but also include comparisons with past-year data.  The current year data are compared with each of the last four years of data and include statistical significance testing.  There are over 1,000 variables in this dataset.\n",
    "Selected Population Profiles provide broad social, economic, and housing profiles for a large number of race, ethnic, ancestry, and country/region of birth groups.  The data are presented as population counts for the total population and various subgroups and percentages.\n",
    "For more information about the data available in the ACS, please visit its data users page.\n",
    "\n",
    "2018\n",
    "2017\n",
    "2016\n",
    "2015\n",
    "2014\n",
    "2013\n",
    "2012\n",
    "2011\n",
    "2018\n",
    "News\n",
    "Variable Changes\n",
    "Variables, and the values they represent, may change over time. If you have used variables in prior year releases, check the ACS product changes webpage for source table changes. If the variable you have been using comes from a table that has changed from the prior year, check the variables list (variables.html) and compare the variable concept and label to be sure you are requesting the correct estimate.\n",
    "\n",
    "Annotation Variables\n",
    "In September 2016, ACS released annotation variables that return character representations of each estimate. Many annotations return as null. However, if an annotation variable returns a value, it provides important information about the estimate or margin of error. For example, if an estimate variable (variable ending in “E”) returns “-888888888”, the annotation variable will return “(X)”. Looking at the Notes on ACS Estimate and Annotation Values, this means the estimate is not applicable or not available. For a complete list of return values and their annotations, see Notes on ACS Estimate and Annotation Values.\n",
    "\n",
    "Detailed Tables\n",
    "Example Call: api.census.gov/data/2018/acs/acs1?get=NAME,group(B01001)&for=us:1&key=YOUR_KEY_GOES_HERE\n",
    "2018 ACS Detailed Tables Variables [ html | xml | json ]\n",
    "ACS Technical Documentation\n",
    "Examples and Supported Geography\n",
    "\n",
    "Subject Tables\n",
    "Example Call: api.census.gov/data/2018/acs/acs1/subject?get=NAME,group(S0101)&for=us:1&key=YOUR_KEY_GOES_HERE\n",
    "2018 ACS Subject Tables Variables [ html | xml | json ]\n",
    "ACS Technical Documentation\n",
    "Examples and Supported Geography\n",
    "\n",
    "Data Profiles\n",
    "Example Call: api.census.gov/data/2018/acs/acs1/profile?get=group(DP02)&for=us:1&key=YOUR_KEY_GOES_HERE\n",
    "2018 ACS Data Profiles Variables [ html | xml | json ]\n",
    "ACS Technical Documentation\n",
    "Examples and Supported Geography\n",
    "\n",
    "Comparison Profile\n",
    "Example Call: api.census.gov/data/2018/acs/acs1/cprofile?get=group(CP05)&for=us:1&key=YOUR_KEY_GOES_HERE\n",
    "2018 ACS Comparison Profile Variables [ html | xml | json ]\n",
    "ACS Technical Documentation\n",
    "Examples and Supported Geography\n",
    "\n",
    "Selected Population Profiles\n",
    "Example Call: api.census.gov/data/2018/acs/acs1/spp?get=NAME,group(S0201)&for=us:1&POPGROUP=001&key=YOUR_KEY_GOES_HERE\n",
    "2018 ACS Selected Population Profiles Variables [ html | xml | json ]\n",
    "ACS Technical Documentation\n",
    "Examples and Supported Geography"
   ]
  },
  {
   "cell_type": "code",
   "execution_count": 1,
   "metadata": {},
   "outputs": [],
   "source": [
    "# Dependencies\n",
    "import numpy as np\n",
    "import pandas as pd\n",
    "import matplotlib.pyplot as plt\n",
    "import requests\n",
    "from census import Census\n",
    "from urllib import request\n",
    "import json\n",
    "import xlwt"
   ]
  },
  {
   "cell_type": "markdown",
   "metadata": {},
   "source": [
    "#### API Call: api.census.gov/data/2010/dec/sf1?\n",
    "\n",
    "* Example for data that has an assigned key inserted: \n",
    "* `https://api.census.gov/data/2010/dec/sf1?get=H001001,NAME&for=state:*&key=[user key]`"
   ]
  },
  {
   "cell_type": "code",
   "execution_count": 2,
   "metadata": {},
   "outputs": [],
   "source": [
    "# # Making the API Call:\n",
    "# https://api.census.gov/data/2010/dec/sf1?get=H001001,NAME&for=state:*&key=[api_keys]"
   ]
  },
  {
   "cell_type": "code",
   "execution_count": 3,
   "metadata": {},
   "outputs": [],
   "source": [
    "# Census API Key\n",
    "from api_keys import census_key"
   ]
  },
  {
   "cell_type": "code",
   "execution_count": 4,
   "metadata": {},
   "outputs": [],
   "source": [
    "# Making the API Call:\n",
    "url_str = 'https://api.census.gov/data/2018/acs/acs1/profile?get=NAME,DP02_0001E&for=county:*&in=state:*&key=' + census_key"
   ]
  },
  {
   "cell_type": "code",
   "execution_count": 5,
   "metadata": {},
   "outputs": [],
   "source": [
    "# Getting the response\n",
    "response = request.urlopen(url_str)"
   ]
  },
  {
   "cell_type": "code",
   "execution_count": 6,
   "metadata": {},
   "outputs": [
    {
     "ename": "ValueError",
     "evalue": "not enough values to unpack (expected 5, got 4)",
     "output_type": "error",
     "traceback": [
      "\u001b[0;31m---------------------------------------------------------------------------\u001b[0m",
      "\u001b[0;31mValueError\u001b[0m                                Traceback (most recent call last)",
      "\u001b[0;32m<ipython-input-6-1513ae8b72fd>\u001b[0m in \u001b[0;36m<module>\u001b[0;34m\u001b[0m\n\u001b[1;32m      7\u001b[0m     \u001b[0mjson_data\u001b[0m \u001b[0;34m=\u001b[0m \u001b[0mjson\u001b[0m\u001b[0;34m.\u001b[0m\u001b[0mloads\u001b[0m\u001b[0;34m(\u001b[0m\u001b[0mhtml_str\u001b[0m\u001b[0;34m)\u001b[0m  \u001b[0;31m# Convert the string into JSON\u001b[0m\u001b[0;34m\u001b[0m\u001b[0;34m\u001b[0m\u001b[0m\n\u001b[1;32m      8\u001b[0m     \u001b[0;32mfor\u001b[0m \u001b[0mrow\u001b[0m \u001b[0;32min\u001b[0m \u001b[0mjson_data\u001b[0m\u001b[0;34m:\u001b[0m\u001b[0;34m\u001b[0m\u001b[0;34m\u001b[0m\u001b[0m\n\u001b[0;32m----> 9\u001b[0;31m         \u001b[0mcl1\u001b[0m\u001b[0;34m,\u001b[0m \u001b[0mcl2\u001b[0m\u001b[0;34m,\u001b[0m \u001b[0mcl3\u001b[0m\u001b[0;34m,\u001b[0m \u001b[0mcl4\u001b[0m\u001b[0;34m,\u001b[0m \u001b[0mcl5\u001b[0m \u001b[0;34m=\u001b[0m\u001b[0mrow\u001b[0m\u001b[0;34m\u001b[0m\u001b[0;34m\u001b[0m\u001b[0m\n\u001b[0m\u001b[1;32m     10\u001b[0m \u001b[0;34m\u001b[0m\u001b[0m\n\u001b[1;32m     11\u001b[0m         \u001b[0;31m# Write format (row_num, col_num, value)\u001b[0m\u001b[0;34m\u001b[0m\u001b[0;34m\u001b[0m\u001b[0;34m\u001b[0m\u001b[0m\n",
      "\u001b[0;31mValueError\u001b[0m: not enough values to unpack (expected 5, got 4)"
     ]
    }
   ],
   "source": [
    "# ....\n",
    "book = xlwt.Workbook()  # Create a new Excel file\n",
    "sheet_test = book.add_sheet('test')  # Add a new sheet named \"test\"\n",
    "html_str = response.read().decode(\"utf-8\")  # Convert the response into a string\n",
    "i=0\n",
    "if (html_str):\n",
    "    json_data = json.loads(html_str)  # Convert the string into JSON\n",
    "    for row in json_data:\n",
    "        cl1, cl2, cl3, cl4, cl5 =row\n",
    "        \n",
    "        # Write format (row_num, col_num, value)\n",
    "        sheet_test.write(i,0,cl1)\n",
    "        sheet_test.write(i,1,cl2)\n",
    "        sheet_test.write(i,2,cl3)\n",
    "        sheet_test.write(i,3,cl4)\n",
    "        sheet_test.write(i,4,cl5)\n",
    "        i = i+1\n",
    "        \n",
    "book.save('/Users/Tito/git_practice/Practice/sample_census_data/test.xls')        "
   ]
  },
  {
   "cell_type": "code",
   "execution_count": null,
   "metadata": {},
   "outputs": [],
   "source": []
  }
 ],
 "metadata": {
  "kernelspec": {
   "display_name": "Python 3",
   "language": "python",
   "name": "python3"
  },
  "language_info": {
   "codemirror_mode": {
    "name": "ipython",
    "version": 3
   },
   "file_extension": ".py",
   "mimetype": "text/x-python",
   "name": "python",
   "nbconvert_exporter": "python",
   "pygments_lexer": "ipython3",
   "version": "3.6.10"
  }
 },
 "nbformat": 4,
 "nbformat_minor": 4
}
